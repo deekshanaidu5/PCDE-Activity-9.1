{
 "cells": [
  {
   "cell_type": "markdown",
   "metadata": {},
   "source": [
    "# The Massachusetts Institute of Technology (MIT)\n",
    "\n",
    "**Name:** [Your Full Name]  \n",
    "**GitHub Username:** [Your GitHub Username]\n",
    "\n",
    "The Massachusetts Institute of Technology (MIT) is a private university in Cambridge, **Massachusetts**. Established in 1861, MIT has played a key role in technological advancements worldwide.\n"
   ]
  }
 ],
 "metadata": {
  "kernelspec": {
   "display_name": "Python 3",
   "language": "python",
   "name": "python3"
  },
  "language_info": {
   "codemirror_mode": {
    "name": "ipython",
    "version": 3
   },
   "file_extension": ".py",
   "mimetype": "text/x-python",
   "name": "python",
   "nbconvert_exporter": "python",
   "pygments_lexer": "ipython3",
   "version": "3.7.3"
  }
 },
 "nbformat": 4,
 "nbformat_minor": 4
}
